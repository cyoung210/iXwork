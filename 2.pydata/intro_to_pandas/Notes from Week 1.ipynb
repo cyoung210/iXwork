{
 "cells": [
  {
   "cell_type": "markdown",
   "metadata": {},
   "source": [
    "# 6. Functions"
   ]
  },
  {
   "cell_type": "code",
   "execution_count": 3,
   "metadata": {},
   "outputs": [
    {
     "name": "stdout",
     "output_type": "stream",
     "text": [
      "Hello Man\n",
      "Hello friend\n"
     ]
    }
   ],
   "source": [
    "#putting the argument within a string \n",
    "#setting a default value for argument \n",
    "\n",
    "def greet(name=\"friend\"):\n",
    "    print (f\"Hello {name}\")\n",
    "    \n",
    "greet(\"Man\")\n",
    "greet()"
   ]
  },
  {
   "cell_type": "code",
   "execution_count": 7,
   "metadata": {},
   "outputs": [],
   "source": [
    "#unpacking multiple return values into differnet varaibles \n",
    "def func(a,b):\n",
    "    x = a*2\n",
    "    y = b*3\n",
    "    return x,y\n",
    "\n",
    "c,d = func(1,10) \n",
    "\n",
    "#you cannot do func(1,10) = c,d "
   ]
  },
  {
   "cell_type": "code",
   "execution_count": 8,
   "metadata": {},
   "outputs": [],
   "source": [
    "#LAMBDA FUNCTIONS\n",
    "func_lambda = lambda input: output\n"
   ]
  },
  {
   "cell_type": "markdown",
   "metadata": {},
   "source": [
    "# 8. Advanced Data Structures\n"
   ]
  },
  {
   "cell_type": "markdown",
   "metadata": {},
   "source": [
    "SETS are groups of non repeated elements \n"
   ]
  },
  {
   "cell_type": "code",
   "execution_count": 14,
   "metadata": {},
   "outputs": [],
   "source": [
    "#CREATING A SET\n",
    "set1 = set([\"a\",\"b\",\"c\",2])\n",
    "set2 = {1,2,3}"
   ]
  },
  {
   "cell_type": "code",
   "execution_count": 17,
   "metadata": {},
   "outputs": [
    {
     "data": {
      "text/plain": [
       "{'a', 'b', 'c'}"
      ]
     },
     "execution_count": 17,
     "metadata": {},
     "output_type": "execute_result"
    }
   ],
   "source": [
    "#EVALUATING SETS\n",
    "\n",
    "#whether an element is part of a set\n",
    "\"a\" in set1 \n",
    "\n",
    "#see common elements between two sets\n",
    "common = set1.intersection(set2)\n",
    "common\n",
    "\n",
    "#see exclusive elements\n",
    "exclusive1 = set1 - set2\n",
    "exclusive1"
   ]
  },
  {
   "cell_type": "code",
   "execution_count": 18,
   "metadata": {},
   "outputs": [],
   "source": [
    "#EDITING SETS\n",
    "\n",
    "#add elements \n",
    "set1.add(\"yo\")\n",
    "\n",
    "#remove elements\n",
    "set2.remove(2)"
   ]
  },
  {
   "cell_type": "code",
   "execution_count": 19,
   "metadata": {},
   "outputs": [
    {
     "data": {
      "text/plain": [
       "{1, 2, 3, 4}"
      ]
     },
     "execution_count": 19,
     "metadata": {},
     "output_type": "execute_result"
    }
   ],
   "source": [
    "#SETS HELP IN REMOVING DUPLICATED ELEMENTS FROM A LIST \n",
    "only = set([1,2,3,4,2,3])\n",
    "only"
   ]
  },
  {
   "cell_type": "code",
   "execution_count": 22,
   "metadata": {},
   "outputs": [
    {
     "data": {
      "text/plain": [
       "True"
      ]
     },
     "execution_count": 22,
     "metadata": {},
     "output_type": "execute_result"
    }
   ],
   "source": [
    "#OPERATING W SETS\n",
    "\n",
    "set3 = {1,2}\n",
    "set3 == {2,1} #true if same elements\n",
    " \n",
    "set3 < {1,2,3}#true if second set has all elemnts and one more than first set\n"
   ]
  },
  {
   "cell_type": "markdown",
   "metadata": {},
   "source": [
    "# 9. Input and Output"
   ]
  },
  {
   "cell_type": "code",
   "execution_count": 24,
   "metadata": {},
   "outputs": [],
   "source": [
    "#CREATING FOLDER\n",
    "\n",
    "import os \n",
    "os.makedirs(\"./data/me/\",exist_ok=True)"
   ]
  },
  {
   "cell_type": "code",
   "execution_count": 27,
   "metadata": {},
   "outputs": [
    {
     "data": {
      "text/plain": [
       "['population_lisboa.csv',\n",
       " 'primary_results.csv',\n",
       " 'avengers.csv',\n",
       " 'me',\n",
       " 'airbnb.csv']"
      ]
     },
     "execution_count": 27,
     "metadata": {},
     "output_type": "execute_result"
    }
   ],
   "source": [
    "#LISTING FILES \n",
    "\n",
    "os.listdir(\"./data\")"
   ]
  },
  {
   "cell_type": "code",
   "execution_count": 38,
   "metadata": {},
   "outputs": [],
   "source": [
    "#WRITING FILES\n",
    "\n",
    "#open file\n",
    "open(\"./data/me/users.txt\")\n",
    "\n",
    "#writing to a file\n",
    "writing = open(\"./data/me/users.txt\",\"w\")\n",
    "writing.write(\"HELLO\")\n",
    "writing.close()\n",
    "\n",
    "#adding on to a file\n",
    "append = open(\"./data/me/users.txt\",\"a\")\n",
    "append.write(\"James\")\n",
    "append.close()\n",
    "\n",
    "#writing file in a close method to prevent crashes and loss of data\n",
    "users = [\"a\",\"b\",\"c\"]\n",
    "\n",
    "with open(\"./data/me/users.txt\",\"w\") as file_name:\n",
    "    for user in users:\n",
    "        file_name.write(user)\n",
    "        file_name(\"\\n\")\n"
   ]
  },
  {
   "cell_type": "code",
   "execution_count": 40,
   "metadata": {},
   "outputs": [
    {
     "name": "stdout",
     "output_type": "stream",
     "text": [
      "HELLOJamesJames\n"
     ]
    }
   ],
   "source": [
    "#READING FROM FILES\n",
    "\n",
    "with open (\"./data/me/users.txt\") as filename:\n",
    "    data = filename.read()\n",
    "    \n",
    "print (data)"
   ]
  },
  {
   "cell_type": "code",
   "execution_count": null,
   "metadata": {},
   "outputs": [],
   "source": []
  }
 ],
 "metadata": {
  "kernelspec": {
   "display_name": "Python 3",
   "language": "python",
   "name": "python3"
  },
  "language_info": {
   "codemirror_mode": {
    "name": "ipython",
    "version": 3
   },
   "file_extension": ".py",
   "mimetype": "text/x-python",
   "name": "python",
   "nbconvert_exporter": "python",
   "pygments_lexer": "ipython3",
   "version": "3.7.3"
  }
 },
 "nbformat": 4,
 "nbformat_minor": 2
}
